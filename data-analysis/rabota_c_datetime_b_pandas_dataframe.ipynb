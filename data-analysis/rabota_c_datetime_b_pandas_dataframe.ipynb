{
  "nbformat": 4,
  "nbformat_minor": 0,
  "metadata": {
    "colab": {
      "name": "rabota-c-datetime-b-pandas-dataframe.ipynb",
      "provenance": [],
      "authorship_tag": "ABX9TyN8Tl0gtyvQguvUT2H8afZ2",
      "include_colab_link": true
    },
    "kernelspec": {
      "name": "python3",
      "display_name": "Python 3"
    },
    "language_info": {
      "name": "python"
    }
  },
  "cells": [
    {
      "cell_type": "markdown",
      "metadata": {
        "id": "view-in-github",
        "colab_type": "text"
      },
      "source": [
        "<a href=\"https://colab.research.google.com/github/SaenkoDenis/machine-learning-py/blob/main/data-analysis/rabota_c_datetime_b_pandas_dataframe.ipynb\" target=\"_parent\"><img src=\"https://colab.research.google.com/assets/colab-badge.svg\" alt=\"Open In Colab\"/></a>"
      ]
    },
    {
      "cell_type": "markdown",
      "metadata": {
        "id": "qw23xph20rOo"
      },
      "source": [
        "Этот нотбук для статьи в блоге [Работа с datetime в Pandas DataFrame](http://i922161r.beget.tech/2021/05/23/rabota-c-datetime-b-pandas-dataframe/)"
      ]
    },
    {
      "cell_type": "code",
      "metadata": {
        "id": "iRv5Lyzt0cQO"
      },
      "source": [
        "import pandas as pd\n",
        "import numpy as np"
      ],
      "execution_count": 1,
      "outputs": []
    },
    {
      "cell_type": "markdown",
      "metadata": {
        "id": "gt5ZxoNb1aT7"
      },
      "source": [
        "## 1. Преобразование строк в datetime"
      ]
    },
    {
      "cell_type": "code",
      "metadata": {
        "colab": {
          "base_uri": "https://localhost:8080/",
          "height": 144
        },
        "id": "JDNsPBGQzSgq",
        "outputId": "eedcb8ea-de6a-48ed-eae9-0fb1033fa965"
      },
      "source": [
        "df = pd.DataFrame({'date': ['3/10/2000', '3/11/2000', '3/12/2000'],\n",
        "                   'value': [2, 3, 4]})\n",
        "df['date'] = pd.to_datetime(df['date'])\n",
        "df"
      ],
      "execution_count": 2,
      "outputs": [
        {
          "output_type": "execute_result",
          "data": {
            "text/html": [
              "<div>\n",
              "<style scoped>\n",
              "    .dataframe tbody tr th:only-of-type {\n",
              "        vertical-align: middle;\n",
              "    }\n",
              "\n",
              "    .dataframe tbody tr th {\n",
              "        vertical-align: top;\n",
              "    }\n",
              "\n",
              "    .dataframe thead th {\n",
              "        text-align: right;\n",
              "    }\n",
              "</style>\n",
              "<table border=\"1\" class=\"dataframe\">\n",
              "  <thead>\n",
              "    <tr style=\"text-align: right;\">\n",
              "      <th></th>\n",
              "      <th>date</th>\n",
              "      <th>value</th>\n",
              "    </tr>\n",
              "  </thead>\n",
              "  <tbody>\n",
              "    <tr>\n",
              "      <th>0</th>\n",
              "      <td>2000-03-10</td>\n",
              "      <td>2</td>\n",
              "    </tr>\n",
              "    <tr>\n",
              "      <th>1</th>\n",
              "      <td>2000-03-11</td>\n",
              "      <td>3</td>\n",
              "    </tr>\n",
              "    <tr>\n",
              "      <th>2</th>\n",
              "      <td>2000-03-12</td>\n",
              "      <td>4</td>\n",
              "    </tr>\n",
              "  </tbody>\n",
              "</table>\n",
              "</div>"
            ],
            "text/plain": [
              "        date  value\n",
              "0 2000-03-10      2\n",
              "1 2000-03-11      3\n",
              "2 2000-03-12      4"
            ]
          },
          "metadata": {
            "tags": []
          },
          "execution_count": 2
        }
      ]
    },
    {
      "cell_type": "markdown",
      "metadata": {
        "id": "ay7NpZfI1sSU"
      },
      "source": [
        "## 2. Соберите дату и время из нескольких столбцов"
      ]
    },
    {
      "cell_type": "markdown",
      "metadata": {
        "id": "SwyZ553e1wfa"
      },
      "source": [
        "## 3. Получить год, месяц и день"
      ]
    },
    {
      "cell_type": "markdown",
      "metadata": {
        "id": "4YRLxTXC102f"
      },
      "source": [
        "## 4. Получите неделю года, день недели и високосный год\n"
      ]
    },
    {
      "cell_type": "markdown",
      "metadata": {
        "id": "2A0DzbzV18jB"
      },
      "source": [
        "## 5. Получить возраст с даты рождения"
      ]
    },
    {
      "cell_type": "markdown",
      "metadata": {
        "id": "ejJA-dJM2Buq"
      },
      "source": [
        "## 6. Повышение производительности за счет установки столбца даты в качестве индекса"
      ]
    },
    {
      "cell_type": "markdown",
      "metadata": {
        "id": "0LsfnF342GH9"
      },
      "source": [
        "## 7. Выберите данные за определенный год и выполните агрегирование"
      ]
    },
    {
      "cell_type": "markdown",
      "metadata": {
        "id": "QgTkMyvs2KFe"
      },
      "source": [
        "# 8. Выберите данные с определенным месяцем и определенным днем месяца"
      ]
    },
    {
      "cell_type": "markdown",
      "metadata": {
        "id": "JYIkfOSu2Ns-"
      },
      "source": [
        "## 9. Выберите данные между двумя датами"
      ]
    },
    {
      "cell_type": "markdown",
      "metadata": {
        "id": "qRJ830zU2Rgi"
      },
      "source": [
        "## 10. Обработка отсутствующих значений"
      ]
    }
  ]
}